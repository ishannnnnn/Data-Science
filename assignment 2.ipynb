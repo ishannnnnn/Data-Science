{
 "cells": [
  {
   "cell_type": "markdown",
   "id": "792e06b4-5b92-4a3c-b225-e7ffad1e5f23",
   "metadata": {},
   "source": [
    "1 . by ussing # we comment code in python.\n",
    "    "
   ]
  },
  {
   "cell_type": "markdown",
   "id": "ad4e5ab4-66d4-4171-a7c5-dee461e2bcaf",
   "metadata": {},
   "source": [
    "2. Variables are symbolic name that is refrence to an object. We assign values to variables by assignment operator \"=\" ."
   ]
  },
  {
   "cell_type": "code",
   "execution_count": null,
   "id": "0816686b-5172-4f80-876d-c7c27085c4a6",
   "metadata": {},
   "outputs": [],
   "source": [
    "3 .a ='14'"
   ]
  },
  {
   "cell_type": "code",
   "execution_count": 7,
   "id": "e3bf6a0a-ef3d-4bf8-9b4d-be894f4712af",
   "metadata": {},
   "outputs": [
    {
     "name": "stdout",
     "output_type": "stream",
     "text": [
      "14\n"
     ]
    }
   ],
   "source": [
    "b = int(a)\n",
    "print(b)"
   ]
  },
  {
   "cell_type": "markdown",
   "id": "a1f4db6c-207b-49fe-91d6-30e86a682de5",
   "metadata": {},
   "source": [
    "4. To run python sript with the command we need to open command line and type in the word python or python3 followed by the path to your script"
   ]
  },
  {
   "cell_type": "code",
   "execution_count": 9,
   "id": "02652dfd-8152-4930-b10b-6e6c75ed09cb",
   "metadata": {},
   "outputs": [],
   "source": [
    "5. my_list = [1,2,3,4,5]"
   ]
  },
  {
   "cell_type": "code",
   "execution_count": 10,
   "id": "62f74b91-959f-4aee-9505-ceadec77f9ca",
   "metadata": {},
   "outputs": [
    {
     "data": {
      "text/plain": [
       "[2, 3]"
      ]
     },
     "execution_count": 10,
     "metadata": {},
     "output_type": "execute_result"
    }
   ],
   "source": [
    "my_list[1:3]"
   ]
  },
  {
   "cell_type": "markdown",
   "id": "7b46d8fe-a738-4fec-9b79-f0b884f5a867",
   "metadata": {},
   "source": [
    "6. Complex numbers are the number whuch are expressed in the form of a+ib where 'a' and 'b' are real number and 'i' is an imaginary number. It is represented as a+bj in python it uses 'j' instead of 'i' in python."
   ]
  },
  {
   "cell_type": "code",
   "execution_count": 11,
   "id": "61a4f771-eacf-4b7b-9af3-b9d941e61cee",
   "metadata": {},
   "outputs": [],
   "source": [
    "7. age = 25\n",
    "#name the variable and then assign its value"
   ]
  },
  {
   "cell_type": "code",
   "execution_count": 12,
   "id": "da173c74-a30e-4055-bc68-55c4638996f2",
   "metadata": {},
   "outputs": [],
   "source": [
    "8. price = 9.99"
   ]
  },
  {
   "cell_type": "code",
   "execution_count": 13,
   "id": "39dbd173-60ec-49bb-9080-a148be8716f3",
   "metadata": {},
   "outputs": [
    {
     "data": {
      "text/plain": [
       "float"
      ]
     },
     "execution_count": 13,
     "metadata": {},
     "output_type": "execute_result"
    }
   ],
   "source": [
    "type(price)"
   ]
  },
  {
   "cell_type": "markdown",
   "id": "234fba77-6fe0-4548-8b0b-7ee972267eeb",
   "metadata": {},
   "source": [
    "This data type belongs to float data."
   ]
  },
  {
   "cell_type": "code",
   "execution_count": 14,
   "id": "5078618f-fc4d-4146-a1f0-77d47aa97449",
   "metadata": {},
   "outputs": [],
   "source": [
    "9. name = ' ishan singh'"
   ]
  },
  {
   "cell_type": "code",
   "execution_count": 15,
   "id": "be361bae-13ed-4d32-ad90-8331b662741d",
   "metadata": {},
   "outputs": [
    {
     "name": "stdout",
     "output_type": "stream",
     "text": [
      " ishan singh\n"
     ]
    }
   ],
   "source": [
    "print(name)\n",
    "#we can print the value stored in a variable by using print command in python."
   ]
  },
  {
   "cell_type": "code",
   "execution_count": 26,
   "id": "b99b5286-9c76-4d3f-b5c1-7d84f65890d7",
   "metadata": {},
   "outputs": [],
   "source": [
    "10. string = 'hello,world!'"
   ]
  },
  {
   "cell_type": "code",
   "execution_count": 28,
   "id": "ee4173f2-a66b-49b9-a196-5c8e12ae2c06",
   "metadata": {},
   "outputs": [
    {
     "data": {
      "text/plain": [
       "'world'"
      ]
     },
     "execution_count": 28,
     "metadata": {},
     "output_type": "execute_result"
    }
   ],
   "source": [
    "string[-6:-1]"
   ]
  },
  {
   "cell_type": "code",
   "execution_count": 33,
   "id": "e947c154-3359-4d39-90d2-dae65ccafcf9",
   "metadata": {},
   "outputs": [],
   "source": [
    "11.is_student = bool(1)"
   ]
  },
  {
   "cell_type": "code",
   "execution_count": 34,
   "id": "8cd42f6b-31de-42ba-a059-04329fbef816",
   "metadata": {},
   "outputs": [
    {
     "data": {
      "text/plain": [
       "bool"
      ]
     },
     "execution_count": 34,
     "metadata": {},
     "output_type": "execute_result"
    }
   ],
   "source": [
    "type(is_student)"
   ]
  },
  {
   "cell_type": "code",
   "execution_count": 35,
   "id": "eae431ce-9e74-4d01-af16-c74d8c667c9d",
   "metadata": {},
   "outputs": [
    {
     "name": "stdout",
     "output_type": "stream",
     "text": [
      "True\n"
     ]
    }
   ],
   "source": [
    "print(is_student)"
   ]
  },
  {
   "cell_type": "code",
   "execution_count": null,
   "id": "70e1a7d0-9c58-474b-90de-be5a8d1a2f5b",
   "metadata": {},
   "outputs": [],
   "source": []
  }
 ],
 "metadata": {
  "kernelspec": {
   "display_name": "Python 3 (ipykernel)",
   "language": "python",
   "name": "python3"
  },
  "language_info": {
   "codemirror_mode": {
    "name": "ipython",
    "version": 3
   },
   "file_extension": ".py",
   "mimetype": "text/x-python",
   "name": "python",
   "nbconvert_exporter": "python",
   "pygments_lexer": "ipython3",
   "version": "3.10.8"
  }
 },
 "nbformat": 4,
 "nbformat_minor": 5
}
