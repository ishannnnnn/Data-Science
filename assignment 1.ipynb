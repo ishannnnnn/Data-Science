{
 "cells": [
  {
   "cell_type": "code",
   "execution_count": 1,
   "id": "25b33e0a-df59-458e-bc4b-00cf2d4282b8",
   "metadata": {},
   "outputs": [],
   "source": [
    "s = 'ishan'"
   ]
  },
  {
   "cell_type": "code",
   "execution_count": 4,
   "id": "703f79c8-58cc-4e69-9a1b-39672e460d32",
   "metadata": {},
   "outputs": [],
   "source": [
    "l = [1,3,5,4.5,'ishan']\n"
   ]
  },
  {
   "cell_type": "code",
   "execution_count": 8,
   "id": "e4bcc260-5e74-44c8-9f7a-b06108084541",
   "metadata": {},
   "outputs": [],
   "source": [
    "t = (1,2,3,4)"
   ]
  },
  {
   "cell_type": "code",
   "execution_count": 11,
   "id": "09f227bb-ec05-40b9-bf60-ecdd4b0219f5",
   "metadata": {},
   "outputs": [],
   "source": [
    "f = 34.444444"
   ]
  },
  {
   "cell_type": "code",
   "execution_count": 12,
   "id": "15c5b70f-218c-4749-b088-107f33fe97a2",
   "metadata": {},
   "outputs": [],
   "source": [
    "var1 = ''"
   ]
  },
  {
   "cell_type": "code",
   "execution_count": 13,
   "id": "9f7c7b2b-41e9-4b9c-a1d7-e84428cd02a7",
   "metadata": {},
   "outputs": [],
   "source": [
    "var2 = '[DS. ML, Python]'"
   ]
  },
  {
   "cell_type": "code",
   "execution_count": 14,
   "id": "7fb918e6-2a0d-4425-abf3-40243aaf310c",
   "metadata": {},
   "outputs": [],
   "source": [
    "var3 = ['DS', 'ML', 'Python']"
   ]
  },
  {
   "cell_type": "code",
   "execution_count": 15,
   "id": "612843e1-26b3-4313-bf61-b49db84ceba5",
   "metadata": {},
   "outputs": [],
   "source": [
    "var4 = 1"
   ]
  },
  {
   "cell_type": "code",
   "execution_count": 16,
   "id": "5626545f-3f62-4b41-9177-755b380748de",
   "metadata": {},
   "outputs": [
    {
     "data": {
      "text/plain": [
       "str"
      ]
     },
     "execution_count": 16,
     "metadata": {},
     "output_type": "execute_result"
    }
   ],
   "source": [
    "type(var1)"
   ]
  },
  {
   "cell_type": "code",
   "execution_count": 17,
   "id": "b26f603e-d1df-41cf-8892-539643b58033",
   "metadata": {},
   "outputs": [
    {
     "data": {
      "text/plain": [
       "str"
      ]
     },
     "execution_count": 17,
     "metadata": {},
     "output_type": "execute_result"
    }
   ],
   "source": [
    "type(var2)"
   ]
  },
  {
   "cell_type": "code",
   "execution_count": 18,
   "id": "c4966a90-4839-4207-a091-cd16e931bd89",
   "metadata": {},
   "outputs": [
    {
     "data": {
      "text/plain": [
       "list"
      ]
     },
     "execution_count": 18,
     "metadata": {},
     "output_type": "execute_result"
    }
   ],
   "source": [
    "type(var3)"
   ]
  },
  {
   "cell_type": "code",
   "execution_count": 19,
   "id": "8bff6bd9-4a4a-4105-b6b7-50c93e0b6c6e",
   "metadata": {},
   "outputs": [
    {
     "data": {
      "text/plain": [
       "int"
      ]
     },
     "execution_count": 19,
     "metadata": {},
     "output_type": "execute_result"
    }
   ],
   "source": [
    "type(var4)"
   ]
  },
  {
   "cell_type": "code",
   "execution_count": 20,
   "id": "4353669b-31e4-4404-ae53-0cb56db385ad",
   "metadata": {},
   "outputs": [
    {
     "data": {
      "text/plain": [
       "2.0"
      ]
     },
     "execution_count": 20,
     "metadata": {},
     "output_type": "execute_result"
    }
   ],
   "source": [
    "4/2\n",
    "#this is an arthematic operator used for division"
   ]
  },
  {
   "cell_type": "code",
   "execution_count": 24,
   "id": "02b2f5ce-70fb-4a25-8244-49de1799243d",
   "metadata": {},
   "outputs": [
    {
     "data": {
      "text/plain": [
       "4"
      ]
     },
     "execution_count": 24,
     "metadata": {},
     "output_type": "execute_result"
    }
   ],
   "source": [
    "4%5\n",
    "#this gives the remainder after divsion"
   ]
  },
  {
   "cell_type": "code",
   "execution_count": 26,
   "id": "ddd45e3a-3ee8-41d4-9867-34f89e36b780",
   "metadata": {},
   "outputs": [
    {
     "data": {
      "text/plain": [
       "8"
      ]
     },
     "execution_count": 26,
     "metadata": {},
     "output_type": "execute_result"
    }
   ],
   "source": [
    "32 // 4\n",
    "#this operator gives quotient as the answer"
   ]
  },
  {
   "cell_type": "code",
   "execution_count": 5,
   "id": "3d420d63-ed90-478e-ab26-1b061c3eaee4",
   "metadata": {},
   "outputs": [],
   "source": [
    "L = [2,3,4,4.5,'ishan',56,'jack',4 + 5j, 45, 67,78 ]"
   ]
  },
  {
   "cell_type": "code",
   "execution_count": 6,
   "id": "1f38afdd-6f33-4fdc-9a1f-8e731d029353",
   "metadata": {},
   "outputs": [
    {
     "data": {
      "text/plain": [
       "[2, 3, 4, 4.5, 'ishan', 56, 'jack', (4+5j), 45, 67, 78]"
      ]
     },
     "execution_count": 6,
     "metadata": {},
     "output_type": "execute_result"
    }
   ],
   "source": [
    "L"
   ]
  },
  {
   "cell_type": "code",
   "execution_count": 8,
   "id": "a5d4f0a6-27a5-4bb4-9e4e-2747caa2e48b",
   "metadata": {},
   "outputs": [
    {
     "name": "stdout",
     "output_type": "stream",
     "text": [
      "<class 'int'>\n",
      "2\n",
      "<class 'int'>\n",
      "3\n",
      "<class 'int'>\n",
      "4\n",
      "<class 'float'>\n",
      "4.5\n",
      "<class 'str'>\n",
      "ishan\n",
      "<class 'int'>\n",
      "56\n",
      "<class 'str'>\n",
      "jack\n",
      "<class 'complex'>\n",
      "(4+5j)\n",
      "<class 'int'>\n",
      "45\n",
      "<class 'int'>\n",
      "67\n",
      "<class 'int'>\n",
      "78\n"
     ]
    }
   ],
   "source": [
    "for i in L :\n",
    "    print(type(i))\n",
    "    print(i)"
   ]
  },
  {
   "cell_type": "code",
   "execution_count": 1,
   "id": "b4f2b021-7161-4617-b54c-92590821e773",
   "metadata": {},
   "outputs": [
    {
     "name": "stdin",
     "output_type": "stream",
     "text": [
      "Enter the number A:  15\n",
      "Enter the number B:  3\n"
     ]
    },
    {
     "name": "stdout",
     "output_type": "stream",
     "text": [
      "3 is a divisor of A and can divide A 1 times.\n"
     ]
    }
   ],
   "source": [
    "A = int(input(\"Enter the number A: \"))\n",
    "B = int(input(\"Enter the number B: \"))\n",
    "\n",
    "count = 0\n",
    "\n",
    "while A % B == 0:\n",
    "    A = A // B\n",
    "    count += 1\n",
    "\n",
    "if count > 0:\n",
    "    print(f\"{B} is a divisor of A and can divide A {count} times.\")\n",
    "else:\n",
    "    print(f\"{B} is not a divisor of A.\")"
   ]
  },
  {
   "cell_type": "code",
   "execution_count": 2,
   "id": "3141a611-4c33-4926-9979-f54cf0995dc4",
   "metadata": {},
   "outputs": [
    {
     "name": "stdout",
     "output_type": "stream",
     "text": [
      "5 is not divisible by 3\n",
      "12 is divisible by 3\n",
      "9 is divisible by 3\n",
      "7 is not divisible by 3\n",
      "18 is divisible by 3\n",
      "27 is divisible by 3\n",
      "16 is not divisible by 3\n",
      "21 is divisible by 3\n",
      "10 is not divisible by 3\n",
      "6 is divisible by 3\n",
      "33 is divisible by 3\n",
      "4 is not divisible by 3\n",
      "15 is divisible by 3\n",
      "8 is not divisible by 3\n",
      "22 is not divisible by 3\n",
      "30 is divisible by 3\n",
      "11 is not divisible by 3\n",
      "25 is not divisible by 3\n",
      "14 is not divisible by 3\n",
      "3 is divisible by 3\n",
      "17 is not divisible by 3\n",
      "20 is not divisible by 3\n",
      "13 is not divisible by 3\n",
      "24 is divisible by 3\n",
      "2 is not divisible by 3\n"
     ]
    }
   ],
   "source": [
    " #Creating the list of integers\n",
    "my_list = [5, 12, 9, 7, 18, 27, 16, 21, 10, 6, 33, 4, 15, 8, 22, 30, 11, 25, 14, 3, 17, 20, 13, 24, 2]\n",
    "\n",
    "# Looping through each element in the list\n",
    "for num in my_list:\n",
    "    # Checking if the element is divisible by 3\n",
    "    if num % 3 == 0:\n",
    "        print(num, \"is divisible by 3\")\n",
    "    else:\n",
    "        print(num, \"is not divisible by 3\")"
   ]
  },
  {
   "cell_type": "code",
   "execution_count": 3,
   "id": "f80ef403-febb-4e05-8af7-f1cf9c3c5d11",
   "metadata": {},
   "outputs": [],
   "source": [
    "l = [1,2,3,4,5,6,'ishan']\n",
    "#creating a list"
   ]
  },
  {
   "cell_type": "code",
   "execution_count": 4,
   "id": "b1d90397-c722-4b2c-92bc-2e8c192e0033",
   "metadata": {},
   "outputs": [
    {
     "data": {
      "text/plain": [
       "2"
      ]
     },
     "execution_count": 4,
     "metadata": {},
     "output_type": "execute_result"
    }
   ],
   "source": [
    "l[1]"
   ]
  },
  {
   "cell_type": "code",
   "execution_count": 5,
   "id": "bbe7b30d-9fe6-44dd-bfa2-63b400e8d28d",
   "metadata": {},
   "outputs": [],
   "source": [
    "l[1] = 46"
   ]
  },
  {
   "cell_type": "code",
   "execution_count": 6,
   "id": "d48cac75-1664-483e-a39b-3658be914c3b",
   "metadata": {},
   "outputs": [
    {
     "data": {
      "text/plain": [
       "[1, 46, 3, 4, 5, 6, 'ishan']"
      ]
     },
     "execution_count": 6,
     "metadata": {},
     "output_type": "execute_result"
    }
   ],
   "source": [
    "l\n",
    "#list is an mutable data type. Mutable data types are those data types which can be changed after processing."
   ]
  },
  {
   "cell_type": "code",
   "execution_count": 7,
   "id": "fe6b826a-1a23-43c8-b54d-41e365a1a0a0",
   "metadata": {},
   "outputs": [],
   "source": [
    "s = ('ishan')"
   ]
  },
  {
   "cell_type": "code",
   "execution_count": 8,
   "id": "56465b9b-5afa-4dfc-95f1-4686b7d99219",
   "metadata": {},
   "outputs": [
    {
     "data": {
      "text/plain": [
       "'s'"
      ]
     },
     "execution_count": 8,
     "metadata": {},
     "output_type": "execute_result"
    }
   ],
   "source": [
    "s[1]"
   ]
  },
  {
   "cell_type": "code",
   "execution_count": 9,
   "id": "bddf638a-af4d-4129-ad09-8005d15c3ca1",
   "metadata": {},
   "outputs": [
    {
     "ename": "NameError",
     "evalue": "name 't' is not defined",
     "output_type": "error",
     "traceback": [
      "\u001b[0;31m---------------------------------------------------------------------------\u001b[0m",
      "\u001b[0;31mNameError\u001b[0m                                 Traceback (most recent call last)",
      "Cell \u001b[0;32mIn[9], line 1\u001b[0m\n\u001b[0;32m----> 1\u001b[0m s[\u001b[38;5;241m1\u001b[39m] \u001b[38;5;241m=\u001b[39m \u001b[43mt\u001b[49m\n",
      "\u001b[0;31mNameError\u001b[0m: name 't' is not defined"
     ]
    }
   ],
   "source": [
    "s[1] = t"
   ]
  },
  {
   "cell_type": "code",
   "execution_count": null,
   "id": "e1340cd9-9931-4eda-ad8b-61a35b8791a5",
   "metadata": {},
   "outputs": [],
   "source": []
  }
 ],
 "metadata": {
  "kernelspec": {
   "display_name": "Python 3 (ipykernel)",
   "language": "python",
   "name": "python3"
  },
  "language_info": {
   "codemirror_mode": {
    "name": "ipython",
    "version": 3
   },
   "file_extension": ".py",
   "mimetype": "text/x-python",
   "name": "python",
   "nbconvert_exporter": "python",
   "pygments_lexer": "ipython3",
   "version": "3.10.8"
  }
 },
 "nbformat": 4,
 "nbformat_minor": 5
}
